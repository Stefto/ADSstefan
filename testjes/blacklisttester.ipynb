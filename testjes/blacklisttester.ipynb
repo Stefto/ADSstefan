{
 "cells": [
  {
   "cell_type": "code",
   "execution_count": 2,
   "metadata": {
    "collapsed": false
   },
   "outputs": [
    {
     "data": {
      "text/plain": [
       "['<sil>',\n",
       " '</sil>',\n",
       " 'that',\n",
       " 'in',\n",
       " 'the',\n",
       " 'is',\n",
       " 'if',\n",
       " 'of',\n",
       " 'than',\n",
       " 'those',\n",
       " 'shall',\n",
       " 'should',\n",
       " 'could',\n",
       " 'be',\n",
       " 'hello',\n",
       " 'bye',\n",
       " 'hi']"
      ]
     },
     "execution_count": 2,
     "metadata": {},
     "output_type": "execute_result"
    }
   ],
   "source": [
    "with open('blacklist.txt','r') as f:\n",
    "    wordlist = f.readlines()\n",
    "    \n",
    "newlist =[];\n",
    "for x in wordlist:\n",
    "    newlist.append(x.replace(\"\\n\", \"\"))\n",
    "\n",
    "newlist"
   ]
  },
  {
   "cell_type": "code",
   "execution_count": null,
   "metadata": {
    "collapsed": true
   },
   "outputs": [],
   "source": []
  }
 ],
 "metadata": {
  "kernelspec": {
   "display_name": "Python 3",
   "language": "python",
   "name": "python3"
  },
  "language_info": {
   "codemirror_mode": {
    "name": "ipython",
    "version": 3
   },
   "file_extension": ".py",
   "mimetype": "text/x-python",
   "name": "python",
   "nbconvert_exporter": "python",
   "pygments_lexer": "ipython3",
   "version": "3.4.3"
  }
 },
 "nbformat": 4,
 "nbformat_minor": 0
}
