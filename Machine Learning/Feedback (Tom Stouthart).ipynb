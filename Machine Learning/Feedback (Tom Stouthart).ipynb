{
 "cells": [
  {
   "cell_type": "markdown",
   "metadata": {},
   "source": [
    "# <font color=darkerred>Feedback</font>\n",
    "By: Tom Stouthart\n",
    "For: Stefan van den Elsen\n",
    "\n",
    "## ML 2 en 3\n",
    "Ik heb geen opmerking over de opdrachten. Dit zijn dan ook tutorials. Het ziet er netjes uit.\n",
    "## ML 4\n",
    "Ik zie dat je de vragen hebt gemaakt. Je laat zien wat je hebt gedaan, maar je legt het niet uit. Mijn advies is om onder de vragen een antwoord te schrijven waarin je uitlegt wat je precies hebt gedaan en waarom.\n",
    "## ML 5\n",
    "Iets meer commentaar en uitleg zou handig zijn. Het is goed dat je de opdrachten op je eigen manier hebt aangepakt.\n",
    "## ML 6\n",
    "Hier heb je af en toe tussen de code wat commentaar in het nederlands staan. Ik weet niet of dit de bedoeling is, omdat het overige commentaar engels is.\n",
    "## ML 7\n",
    "Hier heb ik verder niks op aan te merken. Ik heb in mijn opdracht dezelfde accuracy!\n",
    "## ML 10\n",
    "Ik heb zelf bij deze opdracht kopjes (in Markdown) gebruikt voor de opdrachten. Bijvoorbeeld bij opdracht 2 heb je vragen A,B en C. Het is overzichtelijker als je deze vraag in de uitwerking opsplits per vraag/opdracht, zodat het duidelijk hoe je de vraag/opdracht heb beantwoord.\n",
    "Verder ziet het er goed uit. Misschien wat commentaar/uitleg geven bij de code.\n",
    "## ML 12\n",
    "Het is goed dat je hier je eigen bevindingen laat zien zoals bij opdracht 3.\n",
    "In de opdracht staat dat je moet zeggen wat je doet. Ik zie hier niet veel van terug, je zou wellicht nog bij de code kunnen zetten wat je precies doet.\n",
    "## ML 13\n",
    "De code is mooi overzichtelijk. Goed dat je verschillende accuracies hebt geprobeerd. Je hebt de opdracht op je eigen manier aangepakt."
   ]
  }
 ],
 "metadata": {
  "kernelspec": {
   "display_name": "Python 3",
   "language": "python",
   "name": "python3"
  },
  "language_info": {
   "codemirror_mode": {
    "name": "ipython",
    "version": 3
   },
   "file_extension": ".py",
   "mimetype": "text/x-python",
   "name": "python",
   "nbconvert_exporter": "python",
   "pygments_lexer": "ipython3",
   "version": "3.4.3"
  }
 },
 "nbformat": 4,
 "nbformat_minor": 0
}
