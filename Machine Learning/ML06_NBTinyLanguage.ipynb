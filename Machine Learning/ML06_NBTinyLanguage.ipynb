{
 "cells": [
  {
   "cell_type": "markdown",
   "metadata": {},
   "source": [
    "## Who's text is this?"
   ]
  },
  {
   "cell_type": "markdown",
   "metadata": {},
   "source": [
    "This notebook contains a simple classifier to predict the author of a text (string) of words in a restricted language. An accompanying Excel file exists to generate instances of texts, labeled by an author. The generator instantiates preboiled instances in that the probability for using a word by a particular author is taken into account. As such the generator is at the same time a corpus generator and a means to check if the calculated classifier makes sense."
   ]
  },
  {
   "cell_type": "markdown",
   "metadata": {},
   "source": [
    "First, import the text corpus and create a sentence list and its label list."
   ]
  },
  {
   "cell_type": "code",
   "execution_count": 1,
   "metadata": {
    "collapsed": false
   },
   "outputs": [
    {
     "name": "stdout",
     "output_type": "stream",
     "text": [
      "[['Gerrit', 'soccer', 'soccer', 'car', 'difficult', 'difficult', 'soccer', 'difficult', 'soccer', 'car', 'difficult', 'car', '', '', '', ''], ['Gerrit', 'soccer', 'boring', 'car', 'boring', 'contract', 'boring', 'difficult', 'soccer', 'car', 'soccer', 'contract', 'boring', 'car', 'energy', 'soccer']]\n",
      "['soccer soccer car difficult difficult soccer difficult soccer car difficult car', 'soccer boring car boring contract boring difficult soccer car soccer contract boring car energy soccer']\n",
      "['Gerrit', 'Gerrit']\n"
     ]
    }
   ],
   "source": [
    "import csv\n",
    "\n",
    "f = open(\"data/ML06_Corpus1.csv\")\n",
    "corpus = [ row for row in csv.reader(f, delimiter=';')]\n",
    "X = [\" \".join(lst[1:]).strip(\" \") for lst in corpus]\n",
    "y = [lst[0] for lst in corpus]\n",
    "print(corpus[:2])\n",
    "print(X[:2])\n",
    "print(y[:2])"
   ]
  },
  {
   "cell_type": "markdown",
   "metadata": {},
   "source": [
    "Suppose, you don't know anything about machine learning. Waht would be an approach to determine the author of a sentence, having this set of labeled sentences?"
   ]
  },
  {
   "cell_type": "code",
   "execution_count": 2,
   "metadata": {
    "collapsed": false
   },
   "outputs": [
    {
     "name": "stdout",
     "output_type": "stream",
     "text": [
      "{'difficult': 0.1076923076923077, 'contract': 0.13076923076923078, 'soccer': 0.2153846153846154, 'Gerrit': 0.09615384615384616, 'energy': 0.028846153846153848, 'sweet': 0.15576923076923077, 'boring': 0.06923076923076923, 'car': 0.19615384615384615}\n",
      "{'difficult': 0.04212454212454213, 'contract': 0.08058608058608059, 'soccer': 0.07326007326007326, 'Truus': 0.09157509157509157, 'energy': 0.25457875457875456, 'sweet': 0.05311355311355311, 'boring': 0.2893772893772894, 'car': 0.11538461538461539}\n"
     ]
    }
   ],
   "source": [
    "from collections import Counter\n",
    "\n",
    "words_G = [word for row in corpus[:50] for word in row if word != '']\n",
    "words_T = [word for row in corpus[50:] for word in row if word != '']\n",
    "counts_G = Counter(words_G)\n",
    "counts_T = Counter(words_T)\n",
    "total_G = sum(counts_G.values())\n",
    "total_T = sum(counts_T.values())\n",
    "perc_G = {key: value/total_G for  (key, value) in counts_G.items()}\n",
    "perc_T = {key: value/total_T for  (key, value) in counts_T.items()}\n",
    "\n",
    "print(perc_G)\n",
    "print(perc_T)"
   ]
  },
  {
   "cell_type": "code",
   "execution_count": 3,
   "metadata": {
    "collapsed": false
   },
   "outputs": [
    {
     "name": "stdout",
     "output_type": "stream",
     "text": [
      "True;False;True;True;True;True;True;True;True;True;True;True;True;True;True;True;True;True;True;True;False;True;True;True;True;True;True;False;True;True;True;True;True;True;True;True;True;True;True;True;True;True;True;True;True;True;True;True;True;True;\n",
      "=====\n",
      "False;False;False;False;False;False;False;False;False;False;False;False;False;False;False;False;False;False;False;False;False;True;False;False;False;True;False;False;False;False;False;False;False;False;False;False;False;False;False;False;False;False;False;False;False;False;False;False;False;False;"
     ]
    }
   ],
   "source": [
    "def determine_author(sentence, perc1, perc2):\n",
    "    prod1 = prod2 = 1.0\n",
    "    for word in sentence:\n",
    "        prod1 *= perc1[word]\n",
    "        prod2 *= perc2[word]\n",
    "        # print(prod1, prod2)\n",
    "    return prod1 > prod2\n",
    "\n",
    "# determine_author(X[1].split(\" \"), perc_G, perc_T)\n",
    "\n",
    "for sentence in X[:50]:\n",
    "    print(determine_author(sentence.split(\" \"), perc_G, perc_T), end=';')\n",
    "\n",
    "print(\"\\n=====\")\n",
    "\n",
    "for sentence in X[50:]:\n",
    "    print(determine_author(sentence.split(\" \"), perc_G, perc_T), end=';')"
   ]
  },
  {
   "cell_type": "markdown",
   "metadata": {},
   "source": [
    "Well, that's interesting and perhaps a bit embarassing at the same time. I would have expected the first set of 50 all True (author = 'Gerrit' and the subsequent 50 all False. But in both sets some unexpected negates slip through. The only explanation I can think of right now is that the generator has generated a string, attributed to Gerrit that is more likely to have been written by Truus. This could be true due to the randimization in the generation.\n",
    "\n",
    "_Question_: can you think of a better explanation?"
   ]
  },
  {
   "cell_type": "markdown",
   "metadata": {},
   "source": [
    "Next, we are defining the evaluate_cross_validation() function as we did in previous notebooks. As it seems that we are using this function in many notebooks, it would be a good idea to put it (together with other goodies) in a module. For now, we just repeat ourselves."
   ]
  },
  {
   "cell_type": "code",
   "execution_count": 4,
   "metadata": {
    "collapsed": true
   },
   "outputs": [],
   "source": [
    "from sklearn.cross_validation import cross_val_score, KFold\n",
    "from numpy import mean\n",
    "from scipy.stats import sem\n",
    "\n",
    "def evaluate_cross_validation(clf, X, y, K):\n",
    "    # create a k-fold croos validation iterator of k=5 folds\n",
    "    cv = KFold(len(y), K, shuffle=True, random_state=0)\n",
    "    # by default the score used is the one returned by score method of the estimator (accuracy)\n",
    "    scores = cross_val_score(clf, X, y, cv=cv)\n",
    "    print(scores)\n",
    "    print(\"Mean score: {0:.3f}\".format(mean(scores)))\n",
    "    print(\"Standard error of the mean: (+/-{0:.3f})\".format(sem(scores)))"
   ]
  },
  {
   "cell_type": "markdown",
   "metadata": {},
   "source": [
    "Note that we create our validation folds from our complete dataset as contrasted to creating folds from the training set in the SVM notebook...\n",
    "\n",
    "What's that vectorizer thing doin in our classifier? Well, our Naive Bayes classifier can only deal with numeric data. So we have to map the texts to numeric data. That's in short what the vectorizer does: it creates a vector of features that we can give numeric values. The CountVectorizer is one of the simplest vectorizers available: it just creates a feature for each unique word in the text an then counts occurrences of each word in a text.\n",
    "There are also other vectorizers available in sklearn, such as the HashingVectorizer. Using the HashingVectorizer leads to a smaller feature space as different unique words may be hashed to the same bucket. The buckets form the feature space. Also, vectorizers may have paramaters. See the sklearn docs for which params you can use."
   ]
  },
  {
   "cell_type": "code",
   "execution_count": 5,
   "metadata": {
    "collapsed": false
   },
   "outputs": [
    {
     "name": "stdout",
     "output_type": "stream",
     "text": [
      "['soccer soccer car difficult difficult soccer difficult soccer car difficult car', 'soccer boring car boring contract boring difficult soccer car soccer contract boring car energy soccer']\n",
      "\n",
      "[[0 3 0 4 0 4 0]\n",
      " [4 3 2 1 1 4 0]]\n",
      "\n",
      "['boring', 'car', 'contract', 'difficult', 'energy', 'soccer', 'sweet']\n"
     ]
    }
   ],
   "source": [
    "from sklearn.feature_extraction.text import CountVectorizer\n",
    "\n",
    "vec = CountVectorizer()\n",
    "print(X[:2])\n",
    "\n",
    "print()\n",
    "\n",
    "print(vec.fit_transform(X).toarray()[:2])\n",
    "\n",
    "print()\n",
    "\n",
    "print(vec.get_feature_names())"
   ]
  },
  {
   "cell_type": "markdown",
   "metadata": {},
   "source": [
    "Now, what do you think the output from the vectorizer means? Hint: the sum of each array is equal to the number of words in each sentence with the same index."
   ]
  },
  {
   "cell_type": "code",
   "execution_count": 6,
   "metadata": {
    "collapsed": false
   },
   "outputs": [
    {
     "name": "stdout",
     "output_type": "stream",
     "text": [
      "[ 0.95  0.8   0.95  0.95  1.  ]\n",
      "Mean score: 0.930\n",
      "Standard error of the mean: (+/-0.034)\n"
     ]
    }
   ],
   "source": [
    "from sklearn.naive_bayes import MultinomialNB\n",
    "from sklearn.pipeline import Pipeline\n",
    "from sklearn.feature_extraction.text import CountVectorizer\n",
    "\n",
    "clf = Pipeline([('vect', CountVectorizer()), ('clf', MultinomialNB())])\n",
    "\n",
    "evaluate_cross_validation(clf, X, y, 5)"
   ]
  },
  {
   "cell_type": "markdown",
   "metadata": {},
   "source": [
    "Wew, that's pretty accurate. Ofcourse, that's especially because we've carefully crafted our dataset and took care to create users (Gerrit and Truus) that have really different writing styles. As an exercise you should create users with less distinct writing styles. You would probably see a smaller accuracy."
   ]
  },
  {
   "cell_type": "code",
   "execution_count": 7,
   "metadata": {
    "collapsed": false
   },
   "outputs": [
    {
     "name": "stdout",
     "output_type": "stream",
     "text": [
      "['car sweet contract sweet sweet car soccer sweet', 'soccer difficult sweet contract energy soccer difficult soccer car car boring contract sweet']\n",
      "['Gerrit', 'Gerrit']\n"
     ]
    }
   ],
   "source": [
    "from sklearn.cross_validation import train_test_split\n",
    "\n",
    "X_train, X_test, y_train, y_test = train_test_split(X, y, test_size=0.25, random_state=33)\n",
    "print(X_train[:2])\n",
    "print(y_train[:2])"
   ]
  },
  {
   "cell_type": "code",
   "execution_count": 8,
   "metadata": {
    "collapsed": true
   },
   "outputs": [],
   "source": [
    "from sklearn import metrics\n",
    "\n",
    "def train_and_evaluate(clf, X_train, X_test, y_train, y_test):\n",
    "    \n",
    "    clf.fit(X_train, y_train)\n",
    "    \n",
    "    print(\"Accuracy on training set:\")\n",
    "    print(clf.score(X_train, y_train))\n",
    "    print(\"Accuracy on testing set:\")\n",
    "    print(clf.score(X_test, y_test))\n",
    "    \n",
    "    y_pred = clf.predict(X_test)\n",
    "    \n",
    "    print(\"Classification Report:\")\n",
    "    print(metrics.classification_report(y_test, y_pred))\n",
    "    print(\"Confusion Matrix:\")\n",
    "    print(metrics.confusion_matrix(y_test, y_pred))"
   ]
  },
  {
   "cell_type": "markdown",
   "metadata": {},
   "source": [
    "Now, lets fit our modelfrom the train set and test it against the test set. Explain why our test set contains 25 measurements."
   ]
  },
  {
   "cell_type": "code",
   "execution_count": 9,
   "metadata": {
    "collapsed": false
   },
   "outputs": [
    {
     "name": "stdout",
     "output_type": "stream",
     "text": [
      "Accuracy on training set:\n",
      "0.96\n",
      "Accuracy on testing set:\n",
      "0.92\n",
      "Classification Report:\n",
      "             precision    recall  f1-score   support\n",
      "\n",
      "     Gerrit       0.80      1.00      0.89         8\n",
      "      Truus       1.00      0.88      0.94        17\n",
      "\n",
      "avg / total       0.94      0.92      0.92        25\n",
      "\n",
      "Confusion Matrix:\n",
      "[[ 8  0]\n",
      " [ 2 15]]\n"
     ]
    }
   ],
   "source": [
    "train_and_evaluate(clf, X_train, X_test, y_train, y_test)"
   ]
  },
  {
   "cell_type": "markdown",
   "metadata": {},
   "source": [
    "We already tested the sentence below in our Excel sheet and it calculated Truus as an author. Sure enough our classifier also predicts Truus as the original author."
   ]
  },
  {
   "cell_type": "code",
   "execution_count": 10,
   "metadata": {
    "collapsed": false
   },
   "outputs": [
    {
     "data": {
      "text/plain": [
       "array(['Truus'], \n",
       "      dtype='<U6')"
      ]
     },
     "execution_count": 10,
     "metadata": {},
     "output_type": "execute_result"
    }
   ],
   "source": [
    "clf.predict([\"contract energy contract sweet contract soccer contract energy difficult energy\"])"
   ]
  },
  {
   "cell_type": "markdown",
   "metadata": {},
   "source": [
    "__Assignment__: Now it's your turn to create a sentence generator for a small language (say, consisting of 10 words). You may get inspiration from the Excel generator, but of course you will use Python to create the generator. Generate a dataset (or: corpus) of 100 sentences attributed evenly to 2 authors. Your generator should take into account word preference of an author. Show that the more distinct preferences are, the more accurate your classifier is. And vice versa, the less distinct word preference is, the less accurate your classifier will be.\n",
    "\n",
    "This is quite a challenging assignment, but being almost halfway the course, we think you should be able to succeed."
   ]
  },
  {
   "cell_type": "code",
   "execution_count": 16,
   "metadata": {
    "collapsed": false
   },
   "outputs": [
    {
     "name": "stdout",
     "output_type": "stream",
     "text": [
      "{'wind': 0.05343511450381679, 'Cheese': 0.1183206106870229, 'assignment': 0.013358778625954198, 'chocolate': 0.14122137404580154, 'mason': 0.10687022900763359, 'stereotype': 0.02862595419847328, 'Nightinggale': 0.12786259541984732, 'sergeant': 0.04389312977099236, 'Harry': 0.09541984732824428, 'dreams': 0.011450381679389313, 'easterbunny': 0.12786259541984732, 'car': 0.04770992366412214, 'handy': 0.08396946564885496}\n",
      "{'wind': 0.11320754716981132, 'Cheese': 0.024528301886792454, 'assignment': 0.12452830188679245, 'chocolate': 0.052830188679245285, 'stereotype': 0.09811320754716982, 'mason': 0.06415094339622641, 'Nightinggale': 0.04150943396226415, 'sergeant': 0.1, 'Marie': 0.09433962264150944, 'dreams': 0.1490566037735849, 'easterbunny': 0.045283018867924525, 'car': 0.03962264150943396, 'handy': 0.052830188679245285}\n"
     ]
    }
   ],
   "source": [
    "import random\n",
    "#first we'll make a few lists\n",
    "#all words: handy, easterbunny, dreams, sergeant, Cheese, wind, mason, chocolate, stereotype,car, assignment, Nightinggale\n",
    "Harry = [('handy', 15), ('easterbunny', 30), ('dreams', 4), ('sergeant', 7), ('Cheese', 25), ('wind', 10), ('mason', 20), ('chocolate', 25), ('stereotype', 5), ('car', 10), ('assignment', 2), ('Nightinggale', 25)]\n",
    "Marie = [('handy', 10), ('easterbunny', 8), ('dreams', 30), ('sergeant', 20), ('Cheese', 5), ('wind', 25), ('mason', 15), ('chocolate', 10), ('stereotype', 20), ('car', 10), ('assignment', 30), ('Nightinggale', 10)] \n",
    "\n",
    "#Op verzoek van gerard ;)\n",
    "def BuildLists(words):\n",
    "    wordsList2d = []\n",
    "    for (word, percentage) in words:\n",
    "        #y[start:end + 1] = 1\n",
    "        x = [word] * percentage\n",
    "        wordsList2d.append(x)\n",
    "    wordsList = [item for sublist in wordsList2d for item in sublist]\n",
    "    return wordsList\n",
    "\n",
    "#pun intended\n",
    "def BuildLines(wordsList, amount, name):\n",
    "    Lines = []\n",
    "    for i in range(amount):\n",
    "        Line = []\n",
    "        Line.append(name)\n",
    "        numberWords = random.randint(5,15)\n",
    "        for i in range(numberWords):\n",
    "            Line.append(random.choice(wordsList))\n",
    "        Lines.append(Line)\n",
    "    return Lines\n",
    "\n",
    "FinalHarry = BuildLists(Harry)\n",
    "FinalMarie = BuildLists(Marie)\n",
    "HarrysLines = BuildLines(FinalHarry,50, \"Harry\")\n",
    "MarieLines = BuildLines(FinalMarie,50, \"Marie\")\n",
    "\n",
    "#en als laatste... percentages berekenen:\n",
    "#Ik ga er even vanuit dat er als nog lege woorden in passen\n",
    "words_H = [word for row in HarrysLines[:50] for word in row if word != '']\n",
    "words_M = [word for row in MarieLines[:50] for word in row if word != '']\n",
    "counts_H = Counter(words_H)\n",
    "counts_M = Counter(words_M)\n",
    "total_H = sum(counts_H.values())\n",
    "total_M = sum(counts_M.values())\n",
    "perc_H = {key: value/total_H for  (key, value) in counts_H.items()}\n",
    "perc_M = {key: value/total_M for  (key, value) in counts_M.items()}\n",
    "\n",
    "print(perc_H)\n",
    "print(perc_M)"
   ]
  },
  {
   "cell_type": "code",
   "execution_count": 20,
   "metadata": {
    "collapsed": false
   },
   "outputs": [
    {
     "name": "stdout",
     "output_type": "stream",
     "text": [
      "[ 0.95  0.8   0.95  0.95  1.  ]\n",
      "Mean score: 0.930\n",
      "Standard error of the mean: (+/-0.034)\n"
     ]
    }
   ],
   "source": [
    "def evaluate_cross_validation(clf, X, y, K):\n",
    "    # create a k-fold croos validation iterator of k=5 folds\n",
    "    cv = KFold(len(y), K, shuffle=True, random_state=0)\n",
    "    # by default the score used is the one returned by score method of the estimator (accuracy)\n",
    "    scores = cross_val_score(clf, X, y, cv=cv)\n",
    "    print(scores)\n",
    "    print(\"Mean score: {0:.3f}\".format(mean(scores)))\n",
    "    print(\"Standard error of the mean: (+/-{0:.3f})\".format(sem(scores)))\n",
    "   \n",
    "clf = Pipeline([('vect', CountVectorizer()), ('clf', MultinomialNB())])\n",
    "\n",
    "evaluate_cross_validation(clf, X, y, 5)"
   ]
  },
  {
   "cell_type": "code",
   "execution_count": 21,
   "metadata": {
    "collapsed": false
   },
   "outputs": [
    {
     "name": "stdout",
     "output_type": "stream",
     "text": [
      "['Nightinggale chocolate chocolate handy Cheese', 'Nightinggale dreams Nightinggale easterbunny easterbunny wind']\n",
      "['Harry', 'Harry']\n"
     ]
    }
   ],
   "source": [
    "CombinedLines = HarrysLines + MarieLines\n",
    "    \n",
    "X = [\" \".join(lst[1:]).strip(\" \") for lst in CombinedLines]\n",
    "y = [lst[0] for lst in CombinedLines]\n",
    "\n",
    "X_train, X_test, y_train, y_test = train_test_split(X, y, test_size=0.25, random_state=33)\n",
    "print(X_train[:2])\n",
    "print(y_train[:2])"
   ]
  },
  {
   "cell_type": "code",
   "execution_count": 22,
   "metadata": {
    "collapsed": false
   },
   "outputs": [
    {
     "name": "stdout",
     "output_type": "stream",
     "text": [
      "Accuracy on training set:\n",
      "0.96\n",
      "Accuracy on testing set:\n",
      "0.96\n",
      "Classification Report:\n",
      "             precision    recall  f1-score   support\n",
      "\n",
      "      Harry       0.89      1.00      0.94         8\n",
      "      Marie       1.00      0.94      0.97        17\n",
      "\n",
      "avg / total       0.96      0.96      0.96        25\n",
      "\n",
      "Confusion Matrix:\n",
      "[[ 8  0]\n",
      " [ 1 16]]\n"
     ]
    }
   ],
   "source": [
    "#keeping up the naming tradition on this one\n",
    "def train_and_evaluate(clf, X_train, X_test, y_train, y_test):\n",
    "    \n",
    "    clf.fit(X_train, y_train)\n",
    "    \n",
    "    print(\"Accuracy on training set:\")\n",
    "    print(clf.score(X_train, y_train))\n",
    "    print(\"Accuracy on testing set:\")\n",
    "    print(clf.score(X_test, y_test))\n",
    "    \n",
    "    y_pred = clf.predict(X_test)\n",
    "    \n",
    "    print(\"Classification Report:\")\n",
    "    print(metrics.classification_report(y_test, y_pred))\n",
    "    print(\"Confusion Matrix:\")\n",
    "    print(metrics.confusion_matrix(y_test, y_pred))\n",
    "    \n",
    "train_and_evaluate(clf, X_train, X_test, y_train, y_test)"
   ]
  },
  {
   "cell_type": "code",
   "execution_count": 26,
   "metadata": {
    "collapsed": false
   },
   "outputs": [
    {
     "data": {
      "text/plain": [
       "array(['Harry'], \n",
       "      dtype='<U5')"
      ]
     },
     "execution_count": 26,
     "metadata": {},
     "output_type": "execute_result"
    }
   ],
   "source": [
    "#harry potter!\n",
    "clf.predict([\"easterbunny wind easterbunny Nightinggale mason mason chocolate Nightinggale chocolate easterbunny\"])"
   ]
  },
  {
   "cell_type": "code",
   "execution_count": 27,
   "metadata": {
    "collapsed": false
   },
   "outputs": [
    {
     "data": {
      "text/plain": [
       "array(['Marie'], \n",
       "      dtype='<U5')"
      ]
     },
     "execution_count": 27,
     "metadata": {},
     "output_type": "execute_result"
    }
   ],
   "source": [
    "# Marie\n",
    "clf.predict([\"dreams wind stereotype sergeant Cheese sergeant chocolate Nightinggale assignment car\"])"
   ]
  },
  {
   "cell_type": "code",
   "execution_count": null,
   "metadata": {
    "collapsed": true
   },
   "outputs": [],
   "source": []
  }
 ],
 "metadata": {
  "kernelspec": {
   "display_name": "Python 3",
   "language": "python",
   "name": "python3"
  },
  "language_info": {
   "codemirror_mode": {
    "name": "ipython",
    "version": 3
   },
   "file_extension": ".py",
   "mimetype": "text/x-python",
   "name": "python",
   "nbconvert_exporter": "python",
   "pygments_lexer": "ipython3",
   "version": "3.4.3"
  }
 },
 "nbformat": 4,
 "nbformat_minor": 0
}
