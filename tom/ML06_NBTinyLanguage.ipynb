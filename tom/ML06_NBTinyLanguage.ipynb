{
 "cells": [
  {
   "cell_type": "markdown",
   "metadata": {},
   "source": [
    "## Who's text is this?"
   ]
  },
  {
   "cell_type": "markdown",
   "metadata": {},
   "source": [
    "This notebook contains a simple classifier to predict the author of a text (string) of words in a restricted language. An accompanying Excel file exists to generate instances of texts, labeled by an author. The generator instantiates preboiled instances in that the probability for using a word by a particular author is taken into account. As such the generator is at the same time a corpus generator and a means to check if the calculated classifier makes sense."
   ]
  },
  {
   "cell_type": "markdown",
   "metadata": {},
   "source": [
    "First, import the text corpus and create a sentence list and its label list."
   ]
  },
  {
   "cell_type": "code",
   "execution_count": 12,
   "metadata": {},
   "outputs": [
    {
     "name": "stdout",
     "output_type": "stream",
     "text": [
      "[['Gerrit', 'soccer', 'soccer', 'car', 'difficult', 'difficult', 'soccer', 'difficult', 'soccer', 'car', 'difficult', 'car', '', '', '', ''], ['Gerrit', 'soccer', 'boring', 'car', 'boring', 'contract', 'boring', 'difficult', 'soccer', 'car', 'soccer', 'contract', 'boring', 'car', 'energy', 'soccer']]\n",
      "\n",
      "['soccer soccer car difficult difficult soccer difficult soccer car difficult car', 'soccer boring car boring contract boring difficult soccer car soccer contract boring car energy soccer']\n",
      "['Gerrit', 'Gerrit']\n"
     ]
    }
   ],
   "source": [
    "import csv\n",
    "\n",
    "f = open(\"ML06_Corpus1.csv\")\n",
    "corpus = [ row for row in csv.reader(f, delimiter=';')]\n",
    "X = [\" \".join(lst[1:]).strip(\" \") for lst in corpus]\n",
    "y = [lst[0] for lst in corpus]\n",
    "print(corpus[:2])\n",
    "\n",
    "print()\n",
    "\n",
    "print(X[:2])\n",
    "print(y[:2])"
   ]
  },
  {
   "cell_type": "markdown",
   "metadata": {},
   "source": [
    "Suppose, you don't know anything about machine learning. Waht would be an approach to determine the author of a sentence, having this set of labeled sentences?"
   ]
  },
  {
   "cell_type": "code",
   "execution_count": 13,
   "metadata": {},
   "outputs": [
    {
     "name": "stdout",
     "output_type": "stream",
     "text": [
      "{'Gerrit': 0.09615384615384616, 'soccer': 0.2153846153846154, 'sweet': 0.15576923076923077, 'contract': 0.13076923076923078, 'boring': 0.06923076923076923, 'car': 0.19615384615384615, 'difficult': 0.1076923076923077, 'energy': 0.028846153846153848}\n",
      "{'Truus': 0.09615384615384616, 'soccer': 0.07692307692307693, 'sweet': 0.05576923076923077, 'contract': 0.08461538461538462, 'boring': 0.3038461538461538, 'car': 0.12115384615384615, 'difficult': 0.04423076923076923, 'energy': 0.2673076923076923}\n"
     ]
    }
   ],
   "source": [
    "from collections import Counter\n",
    "\n",
    "words_G = [word for row in corpus[:50] for word in row if word != '']\n",
    "words_T = [word for row in corpus[50:] for word in row if word != '']\n",
    "\n",
    "counts_G = Counter(words_G)\n",
    "counts_T = Counter(words_T)\n",
    "\n",
    "total_G = sum(counts_G.values())\n",
    "total_T = sum(counts_G.values())\n",
    "\n",
    "perc_G = {key: value/total_G for  (key, value) in counts_G.items()}\n",
    "perc_T = {key: value/total_T for  (key, value) in counts_T.items()}\n",
    "\n",
    "print(perc_G)\n",
    "print(perc_T)"
   ]
  },
  {
   "cell_type": "code",
   "execution_count": 14,
   "metadata": {},
   "outputs": [
    {
     "name": "stdout",
     "output_type": "stream",
     "text": [
      "True;False;True;True;True;True;True;True;True;True;True;True;True;True;True;True;True;True;True;True;False;True;True;True;True;True;True;False;True;True;True;True;True;True;True;True;True;True;True;True;True;True;True;True;True;True;True;True;True;True;\n",
      "=====\n",
      "False;False;False;False;False;False;False;False;False;False;False;False;False;False;False;False;False;False;False;False;False;False;False;False;False;True;False;False;False;False;False;False;False;False;False;False;False;False;False;False;False;False;False;False;False;False;False;False;False;False;"
     ]
    }
   ],
   "source": [
    "def determine_author(sentence, perc1, perc2):\n",
    "    prod1 = prod2 = 1.0\n",
    "    for word in sentence:\n",
    "        prod1 *= perc1[word]\n",
    "        prod2 *= perc2[word]\n",
    "        # print(prod1, prod2)\n",
    "    return prod1 > prod2\n",
    "\n",
    "# determine_author(X[1].split(\" \"), perc_G, perc_T)\n",
    "for sentence in X[:50]:\n",
    "    print(determine_author(sentence.split(\" \"), perc_G, perc_T), end=';')\n",
    "\n",
    "print(\"\\n=====\")\n",
    "\n",
    "for sentence in X[50:]:\n",
    "    print(determine_author(sentence.split(\" \"), perc_G, perc_T), end=';')"
   ]
  },
  {
   "cell_type": "markdown",
   "metadata": {},
   "source": [
    "Well, that's interesting and perhaps a bit embarassing at the same time. I would have expected the first set of 50 all True (author = 'Gerrit' and the subsequent 50 all False. But in both sets some unexpected negates slip through. The only explanation I can think of right now is that the generator has generated a string, attributed to Gerrit that is more likely to have been written by Truus. This could be true due to the randimization in the generation.\n",
    "\n",
    "_Question_: can you think of a better explanation?"
   ]
  },
  {
   "cell_type": "markdown",
   "metadata": {},
   "source": [
    "Next, we are defining the evaluate_cross_validation() function as we did in previous notebooks. As it seems that we are using this function in many notebooks, it would be a good idea to put it (together with other goodies) in a module. For now, we just repeat ourselves."
   ]
  },
  {
   "cell_type": "code",
   "execution_count": 5,
   "metadata": {},
   "outputs": [],
   "source": [
    "from sklearn.cross_validation import cross_val_score, KFold\n",
    "from numpy import mean\n",
    "from scipy.stats import sem\n",
    "\n",
    "def evaluate_cross_validation(clf, X, y, K):\n",
    "    # create a k-fold croos validation iterator of k=5 folds\n",
    "    cv = KFold(len(y), K, shuffle=True, random_state=0)\n",
    "    # by default the score used is the one returned by score method of the estimator (accuracy)\n",
    "    scores = cross_val_score(clf, X, y, cv=cv)\n",
    "    print(scores)\n",
    "    print(\"Mean score: {0:.3f}\".format(mean(scores)))\n",
    "    print(\"Standard error of the mean: (+/-{0:.3f})\".format(sem(scores)))"
   ]
  },
  {
   "cell_type": "markdown",
   "metadata": {},
   "source": [
    "Note that we create our validation folds from our complete dataset as contrasted to creating folds from the training set in the SVM notebook...\n",
    "\n",
    "What's that vectorizer thing doin in our classifier? Well, our Naive Bayes classifier can only deal with numeric data. So we have to map the texts to numeric data. That's in short what the vectorizer does: it creates a vector of features that we can give numeric values. The CountVectorizer is one of the simplest vectorizers available: it just creates a feature for each unique word in the text an then counts occurrences of each word in a text.\n",
    "There are also other vectorizers available in sklearn, such as the HashingVectorizer. Using the HashingVectorizer leads to a smaller feature space as different unique words may be hashed to the same bucket. The buckets form the feature space. Also, vectorizers may have paramaters. See the sklearn docs for which params you can use."
   ]
  },
  {
   "cell_type": "code",
   "execution_count": 15,
   "metadata": {},
   "outputs": [
    {
     "name": "stdout",
     "output_type": "stream",
     "text": [
      "['soccer soccer car difficult difficult soccer difficult soccer car difficult car', 'soccer boring car boring contract boring difficult soccer car soccer contract boring car energy soccer']\n",
      "\n",
      "[[0 3 0 4 0 4 0]\n",
      " [4 3 2 1 1 4 0]]\n",
      "\n",
      "['boring', 'car', 'contract', 'difficult', 'energy', 'soccer', 'sweet']\n"
     ]
    }
   ],
   "source": [
    "from sklearn.feature_extraction.text import CountVectorizer\n",
    "\n",
    "vec = CountVectorizer()\n",
    "print(X[:2])\n",
    "\n",
    "print()\n",
    "\n",
    "print(vec.fit_transform(X).toarray()[:2])\n",
    "\n",
    "print()\n",
    "\n",
    "print(vec.get_feature_names())"
   ]
  },
  {
   "cell_type": "markdown",
   "metadata": {},
   "source": [
    "Now, what do you think the output from the vectorizer means? Hint: the sum of each array is equal to the number of words in each sentence with the same index."
   ]
  },
  {
   "cell_type": "code",
   "execution_count": 16,
   "metadata": {},
   "outputs": [
    {
     "name": "stdout",
     "output_type": "stream",
     "text": [
      "[ 0.95  0.8   0.95  0.95  1.  ]\n",
      "Mean score: 0.930\n",
      "Standard error of the mean: (+/-0.034)\n"
     ]
    }
   ],
   "source": [
    "from sklearn.naive_bayes import MultinomialNB\n",
    "from sklearn.pipeline import Pipeline\n",
    "from sklearn.feature_extraction.text import CountVectorizer\n",
    "\n",
    "clf = Pipeline([('vect', CountVectorizer()), ('clf', MultinomialNB())])\n",
    "\n",
    "evaluate_cross_validation(clf, X, y, 5)"
   ]
  },
  {
   "cell_type": "markdown",
   "metadata": {},
   "source": [
    "Wew, that's pretty accurate. Ofcourse, that's especially because we've carefully crafted our dataset and took care to create users (Gerrit and Truus) that have really different writing styles. As an exercise you should create users with less distinct writing styles. You would probably see a smaller accuracy."
   ]
  },
  {
   "cell_type": "code",
   "execution_count": 17,
   "metadata": {},
   "outputs": [
    {
     "name": "stdout",
     "output_type": "stream",
     "text": [
      "['car sweet contract sweet sweet car soccer sweet', 'soccer difficult sweet contract energy soccer difficult soccer car car boring contract sweet']\n",
      "['Gerrit', 'Gerrit']\n"
     ]
    }
   ],
   "source": [
    "from sklearn.cross_validation import train_test_split\n",
    "\n",
    "X_train, X_test, y_train, y_test = train_test_split(X, y, test_size=0.25, random_state=33)\n",
    "print(X_train[:2])\n",
    "print(y_train[:2])"
   ]
  },
  {
   "cell_type": "code",
   "execution_count": 18,
   "metadata": {},
   "outputs": [],
   "source": [
    "from sklearn import metrics\n",
    "\n",
    "def train_and_evaluate(clf, X_train, X_test, y_train, y_test):\n",
    "    \n",
    "    clf.fit(X_train, y_train)\n",
    "    \n",
    "    print(\"Accuracy on training set:\")\n",
    "    print(clf.score(X_train, y_train))\n",
    "    print(\"Accuracy on testing set:\")\n",
    "    print(clf.score(X_test, y_test))\n",
    "    \n",
    "    y_pred = clf.predict(X_test)\n",
    "    \n",
    "    print(\"Classification Report:\")\n",
    "    print(metrics.classification_report(y_test, y_pred))\n",
    "    print(\"Confusion Matrix:\")\n",
    "    print(metrics.confusion_matrix(y_test, y_pred))"
   ]
  },
  {
   "cell_type": "markdown",
   "metadata": {},
   "source": [
    "Now, lets fit our modelfrom the train set and test it against the test set. Explain why our test set contains 25 measurements."
   ]
  },
  {
   "cell_type": "code",
   "execution_count": 19,
   "metadata": {},
   "outputs": [
    {
     "name": "stdout",
     "output_type": "stream",
     "text": [
      "Accuracy on training set:\n",
      "0.96\n",
      "Accuracy on testing set:\n",
      "0.92\n",
      "Classification Report:\n",
      "             precision    recall  f1-score   support\n",
      "\n",
      "     Gerrit       0.80      1.00      0.89         8\n",
      "      Truus       1.00      0.88      0.94        17\n",
      "\n",
      "avg / total       0.94      0.92      0.92        25\n",
      "\n",
      "Confusion Matrix:\n",
      "[[ 8  0]\n",
      " [ 2 15]]\n"
     ]
    }
   ],
   "source": [
    "train_and_evaluate(clf, X_train, X_test, y_train, y_test)"
   ]
  },
  {
   "cell_type": "markdown",
   "metadata": {},
   "source": [
    "We already tested the sentence below in our Excel sheet and it calculated Truus as an author. Sure enough our classifier also predicts Truus as the original author."
   ]
  },
  {
   "cell_type": "code",
   "execution_count": 20,
   "metadata": {},
   "outputs": [
    {
     "data": {
      "text/plain": [
       "array(['Truus'], \n",
       "      dtype='<U6')"
      ]
     },
     "execution_count": 20,
     "output_type": "execute_result",
     "metadata": {}
    }
   ],
   "source": [
    "clf.predict([\"contract energy contract sweet contract soccer contract energy difficult energy\"])"
   ]
  },
  {
   "cell_type": "markdown",
   "metadata": {},
   "source": [
    "__Assignment__: Now it's your turn to create a sentence generator for a small language (say, consisting of 10 words). You may get inspiration from the Excel generator, but of course you will use Python to create the generator. Generate a dataset (or: corpus) of 100 sentences attributed evenly to 2 authors. Your generator should take into account word preference of an author. Show that the more distinct preferences are, the more accurate your classifier is. And vice versa, the less distinct word preference is, the less accurate your classifier will be.\n",
    "\n",
    "This is quite a challenging assignment, but being almost halfway the course, we think you should be able to succeed."
   ]
  },
  {
   "cell_type": "code",
   "execution_count": 36,
   "metadata": {},
   "outputs": [
    {
     "name": "stdout",
     "output_type": "stream",
     "text": [
      "Tom:  [['car', 'random', 'laptop', 'photo', 'phone', 'stance', 'exhaust', 'car', 'power', 'car', 'wheels'], ['car', 'power', 'power', 'photo', 'stance', 'random', 'random', 'car', 'power', 'car', 'random', 'power', 'wheels', 'phone']]\n",
      "Harry:  [['phone', 'car', 'random', 'photo', 'wheels', 'laptop'], ['power', 'random', 'wheels', 'phone', 'photo', 'stance', 'random']]\n"
     ]
    }
   ],
   "source": [
    "import random\n",
    "\n",
    "tomWords = [('car', 30), ('food', 5), ('phone', 20), ('laptop', 15), ('random', 25), ('exhaust', 8), ('photo', 17), ('stance', 20), ('wheels', 12), ('power', 35)]\n",
    "harryWords = [('car', 15), ('food', 25), ('phone', 20), ('laptop', 18), ('random', 25), ('exhaust', 8), ('photo', 17), ('stance', 20), ('wheels', 12), ('power', 35)]\n",
    "\n",
    "def wordList(words):\n",
    "    testList = []\n",
    "    for (word, perc) in words:\n",
    "        i = [word] * perc\n",
    "        testList.append(i)\n",
    "    testList2 = [item for row in testList for item in row]\n",
    "    return testList2\n",
    "\n",
    "tomAllWords = wordList(tomWords)\n",
    "harryAllWords = wordList(harryWords)\n",
    "\n",
    "def sentences(testList2):\n",
    "    sentencesList = []\n",
    "    for j in range(50):\n",
    "        sentence = []\n",
    "        # sentences from 9 to 15 words\n",
    "        wordsInSentence = random.randint(5,15)\n",
    "        for j in range(wordsInSentence):\n",
    "            sentence.append(random.choice(testList2))\n",
    "        sentencesList.append(sentence)\n",
    "    return sentencesList\n",
    "\n",
    "tomSentences = sentences(tomAllWords)\n",
    "print (\"Tom: \", tomSentences[:2])\n",
    "harrySentences = sentences(harryAllWords)\n",
    "print (\"Harry: \", harrySentences[:2])"
   ]
  },
  {
   "cell_type": "code",
   "execution_count": 37,
   "metadata": {},
   "outputs": [
    {
     "name": "stdout",
     "output_type": "stream",
     "text": [
      "[['Tom', 'car', 'random', 'laptop', 'photo', 'phone', 'stance', 'exhaust', 'car', 'power', 'car', 'wheels'], ['Tom', 'car', 'power', 'power', 'photo', 'stance', 'random', 'random', 'car', 'power', 'car', 'random', 'power', 'wheels', 'phone']]\n"
     ]
    }
   ],
   "source": [
    "t = [\" \".join(lst[:]).strip(\" \") for lst in tomSentences]\n",
    "h = [\" \".join(lst[:]).strip(\" \") for lst in harrySentences]\n",
    "\n",
    "for k in tomSentences:\n",
    "    k.insert(0, \"Tom\")\n",
    "for k in harrySentences:\n",
    "    k.insert(0, \"Harry\")\n",
    "    \n",
    "allSentences = tomSentences + harrySentences\n",
    "    \n",
    "X = [\" \".join(lst[1:]).strip(\" \") for lst in allSentences]\n",
    "y = [lst[0] for lst in allSentences]\n",
    "print(allSentences[:2])"
   ]
  },
  {
   "cell_type": "code",
   "execution_count": 38,
   "metadata": {},
   "outputs": [
    {
     "name": "stdout",
     "output_type": "stream",
     "text": [
      "{'stance': 0.08117443868739206, 'phone': 0.09844559585492228, 'wheels': 0.044905008635578586, 'photo': 0.09499136442141623, 'food': 0.025906735751295335, 'power': 0.18307426597582038, 'random': 0.12953367875647667, 'car': 0.14853195164075994, 'Tom': 0.08635578583765112, 'exhaust': 0.03281519861830743, 'laptop': 0.07426597582037997}\n",
      "{'Harry': 0.09652509652509653, 'stance': 0.0888030888030888, 'phone': 0.07528957528957529, 'photo': 0.0888030888030888, 'wheels': 0.04054054054054054, 'food': 0.11003861003861004, 'power': 0.16795366795366795, 'random': 0.14092664092664092, 'car': 0.06563706563706563, 'exhaust': 0.03861003861003861, 'laptop': 0.08687258687258688}\n"
     ]
    }
   ],
   "source": [
    "words_T = [word for row in allSentences[:50] for word in row if word != '']\n",
    "words_H = [word for row in allSentences[50:] for word in row if word != '']\n",
    "\n",
    "counts_T = Counter(words_T)\n",
    "counts_H = Counter(words_H)\n",
    "\n",
    "total_T = sum(counts_T.values())\n",
    "total_H = sum(counts_H.values())\n",
    "\n",
    "perc_T = {key: value/total_T for  (key, value) in counts_T.items()}\n",
    "perc_H = {key: value/total_H for  (key, value) in counts_H.items()}\n",
    "\n",
    "print(perc_T)\n",
    "print(perc_H)"
   ]
  },
  {
   "cell_type": "code",
   "execution_count": 39,
   "metadata": {},
   "outputs": [
    {
     "name": "stdout",
     "output_type": "stream",
     "text": [
      "True;True;True;True;True;True;True;True;False;True;True;True;True;True;False;True;False;True;True;True;False;True;True;True;True;False;False;True;True;False;True;True;False;True;True;False;False;False;False;False;True;True;True;True;True;False;True;True;True;True;\n",
      "=====\n",
      "True;True;True;False;False;False;False;True;False;False;True;False;False;False;False;False;False;False;False;False;False;False;False;False;False;False;False;False;False;True;False;False;True;False;True;False;False;True;True;False;True;False;False;False;True;False;False;False;True;False;"
     ]
    }
   ],
   "source": [
    "def determine_author(sentence, perc1, perc2):\n",
    "    prod1 = prod2 = 1.0\n",
    "    for word in sentence:\n",
    "        prod1 *= perc1[word]\n",
    "        prod2 *= perc2[word]\n",
    "    return prod1 > prod2\n",
    "\n",
    "for sentence in X[:50]:\n",
    "    print(determine_author(sentence.split(\" \"), perc_T, perc_H), end=';')\n",
    "\n",
    "print(\"\\n=====\")\n",
    "\n",
    "for sentence in X[50:]:\n",
    "    print(determine_author(sentence.split(\" \"), perc_T, perc_H), end=';')"
   ]
  },
  {
   "cell_type": "code",
   "execution_count": 40,
   "metadata": {},
   "outputs": [],
   "source": [
    "from sklearn.cross_validation import cross_val_score, KFold\n",
    "from numpy import mean\n",
    "from scipy.stats import sem\n",
    "\n",
    "def evaluate_cross_validation(clf, X, y, K):\n",
    "    # create a k-fold croos validation iterator of k=5 folds\n",
    "    cv = KFold(len(y), K, shuffle=True, random_state=0)\n",
    "    # by default the score used is the one returned by score method of the estimator (accuracy)\n",
    "    scores = cross_val_score(clf, X, y, cv=cv)\n",
    "    print(scores)\n",
    "    print(\"Mean score: {0:.3f}\".format(mean(scores)))\n",
    "    print(\"Standard error of the mean: (+/-{0:.3f})\".format(sem(scores)))"
   ]
  },
  {
   "cell_type": "code",
   "execution_count": 41,
   "metadata": {},
   "outputs": [
    {
     "name": "stdout",
     "output_type": "stream",
     "text": [
      "['car random laptop photo phone stance exhaust car power car wheels', 'car power power photo stance random random car power car random power wheels phone']\n",
      "\n",
      "[[3 1 0 1 1 1 1 1 1 1]\n",
      " [3 0 0 0 1 1 4 3 1 1]]\n",
      "\n",
      "['car', 'exhaust', 'food', 'laptop', 'phone', 'photo', 'power', 'random', 'stance', 'wheels']\n"
     ]
    }
   ],
   "source": [
    "from sklearn.feature_extraction.text import CountVectorizer\n",
    "\n",
    "vec = CountVectorizer()\n",
    "print(t[:2])\n",
    "\n",
    "print()\n",
    "\n",
    "print(vec.fit_transform(X).toarray()[:2])\n",
    "\n",
    "print()\n",
    "\n",
    "print(vec.get_feature_names())"
   ]
  },
  {
   "cell_type": "code",
   "execution_count": 42,
   "metadata": {},
   "outputs": [
    {
     "name": "stdout",
     "output_type": "stream",
     "text": [
      "[ 0.75  0.7   0.75  0.55  0.7 ]\n",
      "Mean score: 0.690\n",
      "Standard error of the mean: (+/-0.037)\n"
     ]
    }
   ],
   "source": [
    "from sklearn.naive_bayes import MultinomialNB\n",
    "from sklearn.pipeline import Pipeline\n",
    "from sklearn.feature_extraction.text import CountVectorizer\n",
    "\n",
    "clf = Pipeline([('vect', CountVectorizer()), ('clf', MultinomialNB())])\n",
    "\n",
    "evaluate_cross_validation(clf, X, y, 5)"
   ]
  },
  {
   "cell_type": "code",
   "execution_count": 43,
   "metadata": {},
   "outputs": [
    {
     "name": "stdout",
     "output_type": "stream",
     "text": [
      "['phone phone car random laptop power', 'phone photo car power power wheels stance random power photo stance power random wheels random']\n",
      "['Tom', 'Tom']\n"
     ]
    }
   ],
   "source": [
    "from sklearn.cross_validation import train_test_split\n",
    "\n",
    "X_train, X_test, y_train, y_test = train_test_split(X, y, test_size=0.25, random_state=33)\n",
    "print(X_train[:2])\n",
    "print(y_train[:2])"
   ]
  },
  {
   "cell_type": "code",
   "execution_count": 44,
   "metadata": {},
   "outputs": [],
   "source": [
    "from sklearn import metrics\n",
    "\n",
    "def train_and_evaluate(clf, X_train, X_test, y_train, y_test):\n",
    "    \n",
    "    clf.fit(X_train, y_train)\n",
    "    \n",
    "    print(\"Accuracy on training set:\")\n",
    "    print(clf.score(X_train, y_train))\n",
    "    print(\"Accuracy on testing set:\")\n",
    "    print(clf.score(X_test, y_test))\n",
    "    \n",
    "    y_pred = clf.predict(X_test)\n",
    "    \n",
    "    print(\"Classification Report:\")\n",
    "    print(metrics.classification_report(y_test, y_pred))\n",
    "    print(\"Confusion Matrix:\")\n",
    "    print(metrics.confusion_matrix(y_test, y_pred))"
   ]
  },
  {
   "cell_type": "code",
   "execution_count": 45,
   "metadata": {},
   "outputs": [
    {
     "name": "stdout",
     "output_type": "stream",
     "text": [
      "Accuracy on training set:\n",
      "0.786666666667\n",
      "Accuracy on testing set:\n",
      "0.64\n",
      "Classification Report:\n",
      "             precision    recall  f1-score   support\n",
      "\n",
      "      Harry       0.79      0.65      0.71        17\n",
      "        Tom       0.45      0.62      0.53         8\n",
      "\n",
      "avg / total       0.68      0.64      0.65        25\n",
      "\n",
      "Confusion Matrix:\n",
      "[[11  6]\n",
      " [ 3  5]]\n"
     ]
    }
   ],
   "source": [
    "train_and_evaluate(clf, X_train, X_test, y_train, y_test)"
   ]
  },
  {
   "cell_type": "code",
   "execution_count": 46,
   "metadata": {},
   "outputs": [
    {
     "data": {
      "text/plain": [
       "array(['Tom'], \n",
       "      dtype='<U5')"
      ]
     },
     "execution_count": 46,
     "output_type": "execute_result",
     "metadata": {}
    }
   ],
   "source": [
    "clf.predict([\"random power random stance random wheels exhaust wheels photo car\"])"
   ]
  },
  {
   "cell_type": "code",
   "execution_count": 47,
   "metadata": {},
   "outputs": [
    {
     "data": {
      "text/plain": [
       "array(['Tom'], \n",
       "      dtype='<U5')"
      ]
     },
     "execution_count": 47,
     "output_type": "execute_result",
     "metadata": {}
    }
   ],
   "source": [
    "clf.predict([\"power car stance car random wheels power\"])"
   ]
  },
  {
   "cell_type": "code",
   "execution_count": 48,
   "metadata": {},
   "outputs": [
    {
     "data": {
      "text/plain": [
       "array(['Harry'], \n",
       "      dtype='<U5')"
      ]
     },
     "execution_count": 48,
     "output_type": "execute_result",
     "metadata": {}
    }
   ],
   "source": [
    "clf.predict([\"power food stance food car food wheels food exhaust\"])"
   ]
  },
  {
   "cell_type": "code",
   "execution_count": null,
   "metadata": {},
   "outputs": [],
   "source": [
    ""
   ]
  }
 ],
 "metadata": {
  "kernelspec": {
   "display_name": "Python 3",
   "language": "python",
   "name": "python3"
  },
  "language_info": {
   "codemirror_mode": {
    "name": "ipython",
    "version": 3.0
   },
   "file_extension": ".py",
   "mimetype": "text/x-python",
   "name": "python",
   "nbconvert_exporter": "python",
   "pygments_lexer": "ipython3",
   "version": "3.4.3"
  }
 },
 "nbformat": 4,
 "nbformat_minor": 0
}