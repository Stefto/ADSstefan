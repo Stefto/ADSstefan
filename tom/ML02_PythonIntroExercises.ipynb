{
 "cells": [
  {
   "cell_type": "markdown",
   "metadata": {},
   "source": [
    "## Introduction"
   ]
  },
  {
   "cell_type": "markdown",
   "metadata": {},
   "source": [
    "These exercises touch only a very small subset of Python. The reason this subset has been chosen is that:\n",
    "1. It contains basic Python idiom that deviates substantially from what you are used to in languages such as C# and Java.\n",
    "2. We have to be familiar with the idiom in it as we will make extensive use of it in solving data science problems.\n",
    "\n",
    "For help in solving the exercises you can consult this online [Python tutorial](https://docs.python.org/3.4/tutorial/)."
   ]
  },
  {
   "cell_type": "markdown",
   "metadata": {},
   "source": [
    "## String Exercises"
   ]
  },
  {
   "cell_type": "markdown",
   "metadata": {},
   "source": [
    "Besides numbers, Python can also manipulate strings, which can be expressed in several ways. They can be enclosed in single quotes ('...') or double quotes (\"...\") with the same result."
   ]
  },
  {
   "cell_type": "markdown",
   "metadata": {},
   "source": [
    "#### String Indexing"
   ]
  },
  {
   "cell_type": "code",
   "execution_count": 1,
   "metadata": {},
   "outputs": [
    {
     "name": "stdout",
     "output_type": "stream",
     "text": [
      "Fontys\n"
     ]
    }
   ],
   "source": [
    "# Get the substring 'Fontys' from 'Fontys Machine Learning'\n",
    "\n",
    "# Solution without variables\n",
    "'Fontys Machine Learning'[:6]\n",
    "\n",
    "# Solution with variables\n",
    "a = 'Fontys Machine Learning'\n",
    "b = a[0:6]        # Characters from position 0 (included) to 6 (excluded)\n",
    "print(b)\n",
    "\n",
    "# As you already saw, if we start from 0, we usually leave it out\n",
    "b = a[:6]"
   ]
  },
  {
   "cell_type": "code",
   "execution_count": 2,
   "metadata": {},
   "outputs": [
    {
     "name": "stdout",
     "output_type": "stream",
     "text": [
      "Machine\n"
     ]
    }
   ],
   "source": [
    "# Get the substring 'Machine' from 'Fontys Machine Learning'\n",
    "\n",
    "a = 'Fontys Machine Learning'\n",
    "b = a[7:14]   # Characters 7 to 14, because white spaces are also included in the counting\n",
    "print(b)"
   ]
  },
  {
   "cell_type": "markdown",
   "metadata": {},
   "source": [
    "``str[start:end:stride]`` slices str from position start to position end taking steps of length stride. Note how the start is always included, and the end always excluded. This makes sure that ``s[:i] + s[i:]`` is always equal to ``s``. Negative strides go backwards through string. ``[:]`` (single colon) refers to all elements of a string. ``[1:]`` is equivalent to \"1 to end\".\n",
    "\n",
    "One way to remember how slices work is to think of the indices as pointing between characters, with the left edge of the first character numbered 0. Then the right edge of the last character of a string of n characters has index n, for example:\n",
    "\n",
    "<pre>\n",
    " +---+---+---+---+---+---+\n",
    " | P | y | t | h | o | n |\n",
    " +---+---+---+---+---+---+\n",
    " 0   1   2   3   4   5   6\n",
    "-6  -5  -4  -3  -2  -1\n",
    "</pre>"
   ]
  },
  {
   "cell_type": "code",
   "execution_count": 10,
   "metadata": {},
   "outputs": [
    {
     "data": {
      "text/plain": [
       "True"
      ]
     },
     "execution_count": 10,
     "output_type": "execute_result",
     "metadata": {}
    }
   ],
   "source": [
    "# What is the result of this expression, explain!\n",
    "'Fontys'[:] == 'Fontys'[0:len('Fontys'):1]\n",
    "# '0:' start at the beginning, 'len' gets the whole lenght of 'Fontys' and ':1' makes the step per 1, so it takes\n",
    "# every single letter.\n",
    "\n",
    "# 'Fontys'[0:6:2]"
   ]
  },
  {
   "cell_type": "code",
   "execution_count": 15,
   "metadata": {},
   "outputs": [
    {
     "data": {
      "text/plain": [
       "'Bye'"
      ]
     },
     "execution_count": 15,
     "output_type": "execute_result",
     "metadata": {}
    }
   ],
   "source": [
    "# Using slicing, create the string \"Bye' from 'Bicycle' (you have to collect characters at positions 0, 3 and 6)\n",
    "\n",
    "'Bicycle'[0:7:3]"
   ]
  },
  {
   "cell_type": "code",
   "execution_count": 22,
   "metadata": {},
   "outputs": [
    {
     "data": {
      "text/plain": [
       "'sytnoF'"
      ]
     },
     "execution_count": 22,
     "output_type": "execute_result",
     "metadata": {}
    }
   ],
   "source": [
    "# Reverse the string 'Fontys'; both this is more idiomatic and substantially faster\n",
    "# 'Fontys'[::-1]\n",
    "''.join(reversed('Fontys'))"
   ]
  },
  {
   "cell_type": "code",
   "execution_count": 6,
   "metadata": {},
   "outputs": [
    {
     "data": {
      "text/plain": [
       "'sytnoF'"
      ]
     },
     "execution_count": 6,
     "output_type": "execute_result",
     "metadata": {}
    }
   ],
   "source": [
    "# Using reversed() seems obvious but is tricky as reverse returns an iterable\n",
    "# in the end it leads to this contrived, though instructive example\n",
    "# Why this complexity?\n",
    "# 1st: reversed() returns an iterable object\n",
    "# 2nd: you can use str.join() to concatenate the strings in an interable"
   ]
  },
  {
   "cell_type": "code",
   "execution_count": 27,
   "metadata": {},
   "outputs": [
    {
     "data": {
      "text/plain": [
       "True"
      ]
     },
     "execution_count": 27,
     "output_type": "execute_result",
     "metadata": {}
    }
   ],
   "source": [
    "# now using this reversal idiom: decide if a string is a palindrome\n",
    "# The following code shows you it is a palindrome\n",
    "s = 'legermeetsysteemregel';\n",
    "\n",
    "a = ''.join(reversed('legermeetsysteemregel'));\n",
    "\n",
    "a == s   # compare the reversed to the original"
   ]
  },
  {
   "cell_type": "markdown",
   "metadata": {},
   "source": [
    "#### Create Formatted String Output"
   ]
  },
  {
   "cell_type": "code",
   "execution_count": 60,
   "metadata": {},
   "outputs": [
    {
     "data": {
      "text/plain": [
       "'The FHICT at ADS Minor has 40 students!'"
      ]
     },
     "execution_count": 60,
     "output_type": "execute_result",
     "metadata": {}
    }
   ],
   "source": [
    "# Create the string 'The %s at %s has %d students!' where the placeholders\n",
    "# are substituted with 'FHICT', 'ADS Minor' and 40\n",
    "\n",
    "# See: https://docs.python.org/3.4/library/string.html#format-string-syntax\n",
    "\n",
    "a = 'The {0} at {1} has {2} students!';\n",
    "\n",
    "a.format('FHICT', 'ADS Minor', 40)"
   ]
  },
  {
   "cell_type": "markdown",
   "metadata": {},
   "source": [
    "## List Exercises"
   ]
  },
  {
   "cell_type": "markdown",
   "metadata": {},
   "source": [
    "Python knows a number of compound data types, used to group together other values. The most versatile is the list, which can be written as a list of comma-separated values (items) between square brackets. Lists might contain items of different types, but usually the items all have the same type."
   ]
  },
  {
   "cell_type": "markdown",
   "metadata": {},
   "source": [
    "#### List Creation"
   ]
  },
  {
   "cell_type": "code",
   "execution_count": 37,
   "metadata": {},
   "outputs": [
    {
     "data": {
      "text/plain": [
       "[1, 2, 3]"
      ]
     },
     "execution_count": 37,
     "output_type": "execute_result",
     "metadata": {}
    }
   ],
   "source": [
    "# Create a list of numbers 1,2,3\n",
    "[1,2,3]"
   ]
  },
  {
   "cell_type": "code",
   "execution_count": 44,
   "metadata": {},
   "outputs": [
    {
     "data": {
      "text/plain": [
       "['F', 'o', 'n', 't', 'y', 's']"
      ]
     },
     "execution_count": 44,
     "output_type": "execute_result",
     "metadata": {}
    }
   ],
   "source": [
    "# Create a list of (1-character) strings from the string 'Fontys'\n",
    "list('Fontys')\n",
    "\n",
    "# It is worth thinking about why this works: the list class constructor/converter takes an iterable as argument.\n",
    "# A string can be iterated over: You can use a string as collection in a for loop, hence the iterator protocol \n",
    "# has been implemented for string (as you might have expected).\n",
    "\n",
    "# The following list comprehension should therefore also work\n",
    "[c for c in 'Fontys']"
   ]
  },
  {
   "cell_type": "code",
   "execution_count": 57,
   "metadata": {},
   "outputs": [
    {
     "data": {
      "text/plain": [
       "[1, [], 'Fontys', ['Fontys', 1]]"
      ]
     },
     "execution_count": 57,
     "output_type": "execute_result",
     "metadata": {}
    }
   ],
   "source": [
    "# Create a list of the objects 1, [], 'Fontys', ['Fontys, 1]\n",
    "# list('1, '[]', 'Fontys', '['Fontys, 1]'')\n",
    "[1, [], 'Fontys', ['Fontys', 1]]"
   ]
  },
  {
   "cell_type": "code",
   "execution_count": 67,
   "metadata": {},
   "outputs": [
    {
     "data": {
      "text/plain": [
       "[1, 2, 3, 4, 5, 6, 7, 8, 9, 10, 11, 12, 13, 14, 15, 16, 17, 18, 19]"
      ]
     },
     "execution_count": 67,
     "output_type": "execute_result",
     "metadata": {}
    }
   ],
   "source": [
    "# Create a list for the integers between 0 and 20 ([0..20), or 0 <= n < 20)\n",
    "# Use the range() function, which is actually a type (immutable sequence) that can be iterated over.\n",
    "list(range(1, 20))"
   ]
  },
  {
   "cell_type": "code",
   "execution_count": 68,
   "metadata": {},
   "outputs": [
    {
     "data": {
      "text/plain": [
       "[11, 12, 13, 14, 15, 16, 17, 18, 19, 20]"
      ]
     },
     "execution_count": 68,
     "output_type": "execute_result",
     "metadata": {}
    }
   ],
   "source": [
    "# Create the integer list [11..21)\n",
    "list(range(11, 21))"
   ]
  },
  {
   "cell_type": "code",
   "execution_count": 87,
   "metadata": {},
   "outputs": [
    {
     "data": {
      "text/plain": [
       "[90, 92, 94, 96, 98]"
      ]
     },
     "execution_count": 87,
     "output_type": "execute_result",
     "metadata": {}
    }
   ],
   "source": [
    "# Create a list for all even integer numbers between 90 and 100.\n",
    "# for num in range(90, 100):\n",
    "#     if num % 2 == 0:\n",
    "#         list(num)\n",
    "list(range(90, 100, 2))"
   ]
  },
  {
   "cell_type": "code",
   "execution_count": 88,
   "metadata": {},
   "outputs": [
    {
     "data": {
      "text/plain": [
       "[0,\n",
       " 3,\n",
       " 6,\n",
       " 9,\n",
       " 12,\n",
       " 15,\n",
       " 18,\n",
       " 21,\n",
       " 24,\n",
       " 27,\n",
       " 30,\n",
       " 33,\n",
       " 36,\n",
       " 39,\n",
       " 42,\n",
       " 45,\n",
       " 48,\n",
       " 51,\n",
       " 54,\n",
       " 57,\n",
       " 60,\n",
       " 63,\n",
       " 66,\n",
       " 69,\n",
       " 72,\n",
       " 75,\n",
       " 78,\n",
       " 81,\n",
       " 84,\n",
       " 87,\n",
       " 90,\n",
       " 93,\n",
       " 96,\n",
       " 99]"
      ]
     },
     "execution_count": 88,
     "output_type": "execute_result",
     "metadata": {}
    }
   ],
   "source": [
    "# Create a list of  all integers between 0 and 100 that can be divided by 3 and are uneven\n",
    "# [3, 9, 15, 21, 27, 33, 39, 45, 51, 57, 63, 69, 75, 81, 87, 93, 99]\n",
    "\n",
    "# list(range(0, 100, 3))\n",
    "if x in range(0, 100, 2)"
   ]
  },
  {
   "cell_type": "markdown",
   "metadata": {},
   "source": [
    "#### List assignments"
   ]
  },
  {
   "cell_type": "code",
   "execution_count": 3,
   "metadata": {},
   "outputs": [
    {
     "data": {
      "text/plain": [
       "True"
      ]
     },
     "execution_count": 3,
     "output_type": "execute_result",
     "metadata": {}
    }
   ],
   "source": [
    "# Suppose the following list of lists\n",
    "ll = [[1],[2],[3]]\n",
    "ll2 = ll\n",
    "\n",
    "# Assign to named variables using sequence unpacking\n",
    "l1, l2, l3 = ll\n",
    "l2[0] = 3\n",
    "ll[1][0] = 5\n",
    "\n",
    "# Same problem here: unpacking has assigned (copied) references\n",
    "ll[1][0] == l2[0]"
   ]
  },
  {
   "cell_type": "code",
   "execution_count": 10,
   "metadata": {},
   "outputs": [
    {
     "data": {
      "text/plain": [
       "(True, False, True)"
      ]
     },
     "execution_count": 10,
     "output_type": "execute_result",
     "metadata": {}
    }
   ],
   "source": [
    "l = [1,2,3]\n",
    "l1 = l\n",
    "l2 = l[:]\n",
    "l1[0] = 3\n",
    "l2[0] = 5\n",
    "# Surprise: names of non-basic type values are always references\n",
    "# Assignment of non-basic type values is reference copy: shallow copy (as opposite to deep copy), both l and l1 refer \n",
    "# to the same list!\n",
    "l1 == l, l2 == l, l[0]== 3"
   ]
  },
  {
   "cell_type": "markdown",
   "metadata": {},
   "source": [
    "#### List Indexing and Slicing"
   ]
  },
  {
   "cell_type": "code",
   "execution_count": 15,
   "metadata": {},
   "outputs": [
    {
     "name": "stdout",
     "output_type": "stream",
     "text": [
      "1 [1, 2, 3, 4]\n",
      "2 [2, 3, 4]\n",
      "3 [1]\n",
      "4 [1, 2, 3]\n",
      "5 [1, 2, 3, 4]\n",
      "6 [1, 2, 3, 4]\n",
      "7 [2, 1]\n",
      "8 [2]\n",
      "9 [1, 2, 3, 4]\n",
      "10 [1, 2, 3, 4]\n",
      "11 [1, 2, 3, 4]\n",
      "12 [4, 3, 2, 1]\n",
      "13 []\n"
     ]
    }
   ],
   "source": [
    "# First some examples. Always remember:\n",
    "# - the list (sequence) is always traversed (processed) left to right\n",
    "# - the first index specifies the first item you want in your slice\n",
    "# - the second index specifies the first item you don’t want in your slice\n",
    "# - the third slice index is the stride length with which you step through the list to pick the elements of your slice\n",
    "\n",
    "print(1, [1,2,3,4][:])\n",
    "print(2, [1,2,3,4][1:])\n",
    "print(3, [1,2,3,4][:1])\n",
    "print(4, [1,2,3,4][:-1])\n",
    "print(5, [1,2,3,4][0:4])\n",
    "print(6, [1,2,3,4][0:4])\n",
    "print(7, [1,2,3,4][1::-1])\n",
    "print(8, [1,2,3,4][1::-3])\n",
    "print(9, [1,2,3,4][:])\n",
    "print(10, [1,2,3,4][::])        # often used to make a complete (shallow) copy of the list\n",
    "print(11, [1,2,3,4][::1])\n",
    "print(12, [1,2,3,4][::-1])      # often used to make a reversed copy of the list\n",
    "print(13, [1,2,3,4][0:4:-1])    # if stride is negative, start < stop == True"
   ]
  },
  {
   "cell_type": "code",
   "execution_count": 16,
   "metadata": {},
   "outputs": [
    {
     "data": {
      "text/plain": [
       "[1, 4]"
      ]
     },
     "execution_count": 16,
     "output_type": "execute_result",
     "metadata": {}
    }
   ],
   "source": [
    "# Get list [1,4] from list [1,2,3,4]"
   ]
  },
  {
   "cell_type": "code",
   "execution_count": 17,
   "metadata": {},
   "outputs": [
    {
     "name": "stdout",
     "output_type": "stream",
     "text": [
      "1 3\n"
     ]
    },
    {
     "data": {
      "text/plain": [
       "(1, 3)"
      ]
     },
     "execution_count": 17,
     "output_type": "execute_result",
     "metadata": {}
    }
   ],
   "source": [
    "# Get first and last element of any list in variables first and last\n",
    "l = [1,2,3]"
   ]
  },
  {
   "cell_type": "markdown",
   "metadata": {},
   "source": [
    "#### List and String"
   ]
  },
  {
   "cell_type": "code",
   "execution_count": 21,
   "metadata": {},
   "outputs": [
    {
     "data": {
      "text/plain": [
       "\"['a', 'd', 's']\""
      ]
     },
     "execution_count": 21,
     "output_type": "execute_result",
     "metadata": {}
    }
   ],
   "source": [
    "# Create the string 'ads' from list ['a', 'd', 's']"
   ]
  },
  {
   "cell_type": "code",
   "execution_count": 7,
   "metadata": {},
   "outputs": [
    {
     "data": {
      "text/plain": [
       "True"
      ]
     },
     "execution_count": 7,
     "output_type": "execute_result",
     "metadata": {}
    }
   ],
   "source": [
    "# Why does str(['a', 'd', 's']) not work in previous exercise?\n",
    "# Answer: str() serializes its parameters, creating: \"['a', 'd', 's']\"\n",
    "str(['a', 'd', 's']) == str(['a', 'd', 's'].__str__())"
   ]
  },
  {
   "cell_type": "code",
   "execution_count": 1,
   "metadata": {},
   "outputs": [
    {
     "data": {
      "text/plain": [
       "'a d s'"
      ]
     },
     "execution_count": 1,
     "output_type": "execute_result",
     "metadata": {}
    }
   ],
   "source": [
    "# Create the string 'a d s' from string 'ads'"
   ]
  },
  {
   "cell_type": "code",
   "execution_count": 22,
   "metadata": {},
   "outputs": [
    {
     "data": {
      "text/plain": [
       "'123'"
      ]
     },
     "execution_count": 22,
     "output_type": "execute_result",
     "metadata": {}
    }
   ],
   "source": [
    "# Create the string '123' from list [1,2,3]\n",
    "# Try: \"\".join([1,2,3]); why does it not work?                  # Type error: expected str instance, int found"
   ]
  },
  {
   "cell_type": "code",
   "execution_count": 23,
   "metadata": {},
   "outputs": [
    {
     "data": {
      "text/plain": [
       "[1, 2, 3]"
      ]
     },
     "execution_count": 23,
     "output_type": "execute_result",
     "metadata": {}
    }
   ],
   "source": [
    "# Create the list [1,2,3] from string '123'"
   ]
  },
  {
   "cell_type": "markdown",
   "metadata": {},
   "source": [
    "The method ``split(str,num)`` returns a list of all the words in the string, using ``str`` as the separator (splits on all whitespace if left unspecified), optionally limiting the number of splits to ``num``."
   ]
  },
  {
   "cell_type": "code",
   "execution_count": 24,
   "metadata": {},
   "outputs": [
    {
     "data": {
      "text/plain": [
       "['a', 'd', 's']"
      ]
     },
     "execution_count": 24,
     "output_type": "execute_result",
     "metadata": {}
    }
   ],
   "source": [
    "# Create the list ['a', 'd', 's'] from 'a d s' with split()"
   ]
  },
  {
   "cell_type": "markdown",
   "metadata": {},
   "source": [
    "List comprehensions provide a concise way to create lists. Common applications are to make new lists where each element is the result of some operations applied to each member of another sequence or iterable, or to create a subsequence of those elements that satisfy a certain condition.\n",
    "\n",
    "For example, assume we want to create a list of squares, like:\n",
    "\n",
    "<pre>\n",
    ">>>squares = []\n",
    ">>>for x in range(10):\n",
    "...   squares.append(x**2)\n",
    "...\n",
    ">>>squares\n",
    "[0, 1, 4, 9, 16, 25, 36, 49, 64, 81]\n",
    "</pre>\n",
    "\n",
    "Note that this creates (or overwrites) a variable named x that still exists after the loop completes. We can calculate the list of squares without any side effects using:\n",
    "\n",
    "<pre>\n",
    "squares = [x**2 for x in range(10)]\n",
    "</pre>"
   ]
  },
  {
   "cell_type": "code",
   "execution_count": 26,
   "metadata": {},
   "outputs": [
    {
     "data": {
      "text/plain": [
       "['a', 'd', 's']"
      ]
     },
     "execution_count": 26,
     "output_type": "execute_result",
     "metadata": {}
    }
   ],
   "source": [
    "# Or with list comprehension"
   ]
  },
  {
   "cell_type": "code",
   "execution_count": 25,
   "metadata": {},
   "outputs": [
    {
     "data": {
      "text/plain": [
       "True"
      ]
     },
     "execution_count": 25,
     "output_type": "execute_result",
     "metadata": {}
    }
   ],
   "source": [
    "# Create a function is_palindrome() that returns if a sentence (ignoring blanks, character case and punctuation) is a \n",
    "# palindrome, e.g is_palindrome('A man, a plan, a canal, Panama') == True\n",
    "\n",
    "def is_palindrome(s):\n",
    "    # your code goes here\n",
    "    \n",
    "is_palindrome('A man, a plan, a canal, Panama')"
   ]
  },
  {
   "cell_type": "markdown",
   "metadata": {},
   "source": [
    "## Tuple Exercises"
   ]
  },
  {
   "cell_type": "markdown",
   "metadata": {},
   "source": [
    "We saw that lists and strings have many common properties, such as indexing and slicing operations. They are two examples of sequence data types. Since Python is an evolving language, other sequence data types may be added. There is also another standard sequence data type: the tuple.\n",
    "\n",
    "A tuple consists of a number of values separated by commas."
   ]
  },
  {
   "cell_type": "code",
   "execution_count": 27,
   "metadata": {},
   "outputs": [
    {
     "data": {
      "text/plain": [
       "[(1, 2), (3, 4)]"
      ]
     },
     "execution_count": 27,
     "output_type": "execute_result",
     "metadata": {}
    }
   ],
   "source": [
    "# Create the list of tuples [(1, 2), (3, 4)] from [1, 2, 3, 4]\n",
    "l = [1, 2, 3, 4]\n",
    "\n",
    "# the non-idiomatic way would be:\n",
    "l1 = []\n",
    "for i in range(0, len(l)-1, 2):\n",
    "    l1.append((l[i], l[i+1]))\n",
    "l1\n",
    "\n",
    "# Test what happens if l is the empty list, has 1, 2 or any uneven number of elements"
   ]
  },
  {
   "cell_type": "code",
   "execution_count": 28,
   "metadata": {},
   "outputs": [
    {
     "data": {
      "text/plain": [
       "[(1, 2), (3, 4)]"
      ]
     },
     "execution_count": 28,
     "output_type": "execute_result",
     "metadata": {}
    }
   ],
   "source": [
    "# Create the list of tuples the idiomatic way, using list comprehension\n",
    "# run your tests from previous exercise"
   ]
  },
  {
   "cell_type": "code",
   "execution_count": 29,
   "metadata": {},
   "outputs": [
    {
     "data": {
      "text/plain": [
       "[(1, 2), (3, 4)]"
      ]
     },
     "execution_count": 29,
     "output_type": "execute_result",
     "metadata": {}
    }
   ],
   "source": [
    "# Now, create the same list of tuples using zip()\n",
    "# Again: Run your tests"
   ]
  },
  {
   "cell_type": "code",
   "execution_count": 3,
   "metadata": {},
   "outputs": [],
   "source": [
    "# Flatten the list of tuples [(1, 2), (3, 4)] to [1, 2, 3, 4]\n",
    "lt = [(1, 2), (3, 4)]\n",
    "\n",
    "# With a loop"
   ]
  },
  {
   "cell_type": "code",
   "execution_count": 6,
   "metadata": {},
   "outputs": [
    {
     "data": {
      "text/plain": [
       "[1, 2, 3, 4]"
      ]
     },
     "execution_count": 6,
     "output_type": "execute_result",
     "metadata": {}
    }
   ],
   "source": [
    "# With list comprehension"
   ]
  },
  {
   "cell_type": "code",
   "execution_count": 32,
   "metadata": {},
   "outputs": [
    {
     "data": {
      "text/plain": [
       "(1, 2, 3, 4)"
      ]
     },
     "execution_count": 32,
     "output_type": "execute_result",
     "metadata": {}
    }
   ],
   "source": [
    "# Explain (by consulting the ref manual) why this also works\n",
    "list(sum(lt, ()))\n",
    "\n",
    "# Under the hood, it translates to:\n",
    "() + (1,2) + (3,4)"
   ]
  },
  {
   "cell_type": "code",
   "execution_count": 33,
   "metadata": {},
   "outputs": [
    {
     "data": {
      "text/plain": [
       "10"
      ]
     },
     "execution_count": 33,
     "output_type": "execute_result",
     "metadata": {}
    }
   ],
   "source": [
    "# Now stretch this and sum all numbers in lt\n",
    "# make use of function sum() and the fact that it is an overload function:\n",
    "# sum() has different meanings for numbers and for lists! See ?sum"
   ]
  },
  {
   "cell_type": "code",
   "execution_count": 35,
   "metadata": {},
   "outputs": [
    {
     "data": {
      "text/plain": [
       "['lgh', 'fontys.nl']"
      ]
     },
     "execution_count": 35,
     "output_type": "execute_result",
     "metadata": {}
    }
   ],
   "source": [
    "'lgh@fontys.nl'.split('@')"
   ]
  },
  {
   "cell_type": "code",
   "execution_count": 34,
   "metadata": {},
   "outputs": [
    {
     "data": {
      "text/plain": [
       "'lgh(at)fontys.nl'"
      ]
     },
     "execution_count": 34,
     "output_type": "execute_result",
     "metadata": {}
    }
   ],
   "source": [
    "# Split mail address lgh@fontys.nl in user name (lgh) and domain\n",
    "# using a format string specifier, create the string 'lgh(at)fontys.nl' from addr\n",
    "# you could use the parameter unpacking operator *\n",
    "'{}(at){}'.format(*addr.split('@'))"
   ]
  },
  {
   "cell_type": "markdown",
   "metadata": {},
   "source": [
    "## List as Matrix Exercises"
   ]
  },
  {
   "cell_type": "code",
   "execution_count": null,
   "metadata": {},
   "outputs": [],
   "source": [
    "# A matrix constructed from lists is a list of lists"
   ]
  },
  {
   "cell_type": "code",
   "execution_count": 36,
   "metadata": {},
   "outputs": [
    {
     "data": {
      "text/plain": [
       "[[6, 'P'], [4, 'F'], [7, 'P']]"
      ]
     },
     "execution_count": 36,
     "output_type": "execute_result",
     "metadata": {}
    }
   ],
   "source": [
    "# Add a P(ass), F(ail) mark to a list of numeric marks\n",
    "# transform [6,4,7] into the matrix [[6,'P'], [4,'F'], [7,'P']]\n",
    "\n",
    "marks = [6, 4, 7]\n",
    "\n",
    "# With a for loop\n",
    "l = []\n",
    "for m in marks:\n",
    "    l.append([m, 'P' if m > 5 else 'F'])\n",
    "l"
   ]
  },
  {
   "cell_type": "code",
   "execution_count": null,
   "metadata": {},
   "outputs": [],
   "source": [
    "# With list comprehension (more idiomatic)\n",
    "[[m, 'P' if m > 5 else 'F'] for m in marks]"
   ]
  },
  {
   "cell_type": "code",
   "execution_count": 41,
   "metadata": {},
   "outputs": [
    {
     "data": {
      "text/plain": [
       "[[1, 4], [2, 5], [3, 6]]"
      ]
     },
     "execution_count": 41,
     "output_type": "execute_result",
     "metadata": {}
    }
   ],
   "source": [
    "# Transpose the 2 x 3 matrix [[1,2,3], [4,5,6]] to the 3 x 2 matrix [[1,4], [2,5], [3,6]]\n",
    "# Generalize to transposing n x m matrix to m x n matrix; a straightforward list traversal solution would be nested \n",
    "# for loops\n",
    "mx = [[1,2,3], [4,5,6]]\n",
    "rl = []\n",
    "for i in range(len(mx[0])):\n",
    "    rll = []\n",
    "    for l in mx:\n",
    "        rll.append(l[i])\n",
    "    rl.append(rll)\n",
    "rl"
   ]
  },
  {
   "cell_type": "code",
   "execution_count": 42,
   "metadata": {},
   "outputs": [
    {
     "data": {
      "text/plain": [
       "[[1, 4], [2, 5], [3, 6]]"
      ]
     },
     "execution_count": 42,
     "output_type": "execute_result",
     "metadata": {}
    }
   ],
   "source": [
    "# We can morph this nested for loop solution into the more pythonic nested list comprehension solution\n",
    "[[l[i] for l in mx] for i in range(len(mx[0]))]"
   ]
  },
  {
   "cell_type": "code",
   "execution_count": 43,
   "metadata": {},
   "outputs": [
    {
     "data": {
      "text/plain": [
       "[[(1, 4)], [(2, 5)], [(3, 6)]]"
      ]
     },
     "execution_count": 43,
     "output_type": "execute_result",
     "metadata": {}
    }
   ],
   "source": [
    "# But the seasoned python pro will probably use zip and the unary unpack (*) operator (https://goo.gl/bHWS2S)\n",
    "# on top of that: the zip() solution is faster\n",
    "[[t] for t in zip(*mx)]     # cool!"
   ]
  },
  {
   "cell_type": "code",
   "execution_count": 1,
   "metadata": {},
   "outputs": [
    {
     "name": "stdout",
     "output_type": "stream",
     "text": [
      "[[1 2]\n",
      " [3 4]]\n"
     ]
    },
    {
     "data": {
      "text/plain": [
       "array([[1, 3],\n",
       "       [2, 4]])"
      ]
     },
     "execution_count": 1,
     "output_type": "execute_result",
     "metadata": {}
    }
   ],
   "source": [
    "# Sneak preview for next week, the easy way with numpy!!\n",
    "import numpy as np\n",
    "a = np.array([[1, 2], [3, 4]])\n",
    "print(a)\n",
    "a.transpose()      # a.T also works!"
   ]
  },
  {
   "cell_type": "code",
   "execution_count": 44,
   "metadata": {},
   "outputs": [
    {
     "data": {
      "text/plain": [
       "[[(1, 0)], [(2, 0)], [(3, 2)]]"
      ]
     },
     "execution_count": 44,
     "output_type": "execute_result",
     "metadata": {}
    }
   ],
   "source": [
    "# Create the matrix [[1,0],[2,0],[3,2]] by merging the lists [1,2,3] and ['O', 'O', 'G'], where each character is \n",
    "# mapped to its position in the lookup list ['O', 'V', 'G']\n",
    "# Tip: use the index() method to determine the position of a value in a sequence\n",
    "[[t] for t in zip([1,2,3],\n",
    "                  [['O', 'V', 'G'].index(c) for c in ['O', 'O', 'G']])]  # whooa, can you do that in your other language"
   ]
  },
  {
   "cell_type": "markdown",
   "metadata": {},
   "source": [
    "## Dictionary Exercises"
   ]
  },
  {
   "cell_type": "code",
   "execution_count": 4,
   "metadata": {},
   "outputs": [
    {
     "data": {
      "text/plain": [
       "{'k1': [1], 'k2': 3, 'k3': [3], 'k4': [4]}"
      ]
     },
     "execution_count": 4,
     "output_type": "execute_result",
     "metadata": {}
    }
   ],
   "source": [
    "# You all know dictionaries (associative arrays) from C# and Java; here is how you define them in Python\n",
    "d = {'k1': [1], 'k2': [2], 'k3': [3]}\n",
    "d['k2'] = 3\n",
    "d['k4'] = [4]\n",
    "d"
   ]
  },
  {
   "cell_type": "code",
   "execution_count": 11,
   "metadata": {},
   "outputs": [
    {
     "data": {
      "text/plain": [
       "{'k1': [1], 'k2': [2], 'k3': [3]}"
      ]
     },
     "execution_count": 11,
     "output_type": "execute_result",
     "metadata": {}
    }
   ],
   "source": [
    "# Or:\n",
    "keys = ['k1','k2','k3']\n",
    "values = [[1],[2],[3]]\n",
    "dict(zip(keys, values))    # zip() returns iterable of typles that can be converted into dictionary"
   ]
  },
  {
   "cell_type": "code",
   "execution_count": 12,
   "metadata": {},
   "outputs": [
    {
     "data": {
      "text/plain": [
       "{'k1': [1], 'k2': [2], 'k3': [3]}"
      ]
     },
     "execution_count": 12,
     "output_type": "execute_result",
     "metadata": {}
    }
   ],
   "source": [
    "# Or, using dict comprehension\n",
    "# You might be tempted to do {k: v for k in keys for v in values}\n",
    "# Why doesn't this work?\n",
    "{k: v for k, v in zip(keys, values)}"
   ]
  },
  {
   "cell_type": "code",
   "execution_count": 6,
   "metadata": {},
   "outputs": [
    {
     "data": {
      "text/plain": [
       "[]"
      ]
     },
     "execution_count": 6,
     "output_type": "execute_result",
     "metadata": {}
    }
   ],
   "source": [
    "list(range(2,1))"
   ]
  },
  {
   "cell_type": "code",
   "execution_count": 7,
   "metadata": {},
   "outputs": [
    {
     "data": {
      "text/plain": [
       "True"
      ]
     },
     "execution_count": 7,
     "output_type": "execute_result",
     "metadata": {}
    }
   ],
   "source": [
    "# Create a Python function that returns a word count dictionary for a piece of text\n",
    "# e.g. count_words(\"This and this and this also\") == {'this': 3, 'and': 2, 'also': 1}\n",
    "def count_words(s):\n",
    "    d = {}\n",
    "    for w in s.split(' '):     # This is a very simplistic tokenizer\n",
    "        w = w.lower()\n",
    "        d[w] = 1 if not d.get(w) else d[w] + 1\n",
    "    return d\n",
    "\n",
    "# note that dict is no sequence type and comparison has different meaning\n",
    "count_words(\"This and this and this also\") == {'this': 3, 'and': 2, 'also': 1}"
   ]
  }
 ],
 "metadata": {
  "kernelspec": {
   "display_name": "Python 3",
   "language": "python",
   "name": "python3"
  },
  "language_info": {
   "codemirror_mode": {
    "name": "ipython",
    "version": 3.0
   },
   "file_extension": ".py",
   "mimetype": "text/x-python",
   "name": "python",
   "nbconvert_exporter": "python",
   "pygments_lexer": "ipython3",
   "version": "3.4.3"
  }
 },
 "nbformat": 4,
 "nbformat_minor": 0
}