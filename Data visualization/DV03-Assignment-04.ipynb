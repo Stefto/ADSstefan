{
 "cells": [
  {
   "cell_type": "markdown",
   "metadata": {},
   "source": [
    "# ADS-DV Week 3 Assignment 4 (before week 4)\n",
    "\n",
    "# Visualization cheat sheet\n",
    "\n",
    "\n",
    "## Assignment\n",
    "Before the lesson of week 4 you need to have watched lesson 1a and 2a of the following MOOC:\n",
    "\n",
    "https://www.udacity.com/course/data-visualization-and-d3js--ud507\n",
    "\n",
    "Make your own cheat sheet. This can be a poster, a word document or an iPython Notebook. Include the information that will help you create good visualizations, think of visual encodings, Tufte's design rules, Gestallt rules and any other hint or tip you found in the MOOC lessons.\n"
   ]
  },
  {
   "cell_type": "markdown",
   "metadata": {
    "collapsed": true
   },
   "source": [
    "## Your cheat sheet!\n",
    "1. Don’t Disregard Readability/Legibility For Aesthetic Reasons\n",
    "2. Have Purposeful Hierarchy\n",
    "3. consider your Audience\n",
    "4. Colour should match the content, not the otherway around\n",
    "5. don't use to much fireworks\n",
    "6. Make it fun to look at"
   ]
  }
 ],
 "metadata": {
  "kernelspec": {
   "display_name": "Python 3",
   "language": "python",
   "name": "python3"
  },
  "language_info": {
   "codemirror_mode": {
    "name": "ipython",
    "version": 3
   },
   "file_extension": ".py",
   "mimetype": "text/x-python",
   "name": "python",
   "nbconvert_exporter": "python",
   "pygments_lexer": "ipython3",
   "version": "3.4.3"
  }
 },
 "nbformat": 4,
 "nbformat_minor": 0
}
